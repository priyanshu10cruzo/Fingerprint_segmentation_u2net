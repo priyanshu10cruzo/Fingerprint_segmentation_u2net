{
  "cells": [
    {
      "cell_type": "code",
      "execution_count": null,
      "metadata": {
        "id": "-_yzYVMgAsU1"
      },
      "outputs": [],
      "source": [
        "import numpy as np\n",
        "import tensorflow as tf\n",
        "import cv2\n",
        "from tqdm import tqdm\n",
        "import os\n",
        "\n",
        "# Loading TFLite model\n",
        "interpreter = tf.lite.Interpreter(model_path=\"/content/u2net_quant_float16.tflite\")\n",
        "interpreter.allocate_tensors()\n",
        "\n",
        "# Getting input & output details\n",
        "input_details = interpreter.get_input_details()\n",
        "output_details = interpreter.get_output_details()\n",
        "\n",
        "# For float16 model, make sure input is float32 (TFLite handles conversion internally)\n",
        "input_shape = input_details[0]['shape']\n"
      ]
    },
    {
      "cell_type": "code",
      "execution_count": null,
      "metadata": {
        "vscode": {
          "languageId": "julia"
        }
      },
      "outputs": [],
      "source": [
        "from sklearn.metrics import accuracy_score, f1_score, precision_score, recall_score, jaccard_score"
      ]
    },
    {
      "cell_type": "code",
      "execution_count": 2,
      "metadata": {
        "id": "_ivqy-TSCNvy"
      },
      "outputs": [],
      "source": [
        "from PIL import Image\n",
        "import matplotlib.pyplot as plt"
      ]
    },
    {
      "cell_type": "markdown",
      "metadata": {
        "id": "gZuMYoTDDgXg"
      },
      "source": [
        "Testing Accuracy\n"
      ]
    },
    {
      "cell_type": "code",
      "execution_count": 3,
      "metadata": {
        "colab": {
          "base_uri": "https://localhost:8080/"
        },
        "id": "KJcDjQdoCWLc",
        "outputId": "7014db25-645b-4131-a306-b423caf02e53"
      },
      "outputs": [
        {
          "name": "stdout",
          "output_type": "stream",
          "text": [
            "Requirement already satisfied: roboflow in /usr/local/lib/python3.11/dist-packages (1.2.3)\n",
            "Requirement already satisfied: certifi in /usr/local/lib/python3.11/dist-packages (from roboflow) (2025.7.14)\n",
            "Requirement already satisfied: idna==3.7 in /usr/local/lib/python3.11/dist-packages (from roboflow) (3.7)\n",
            "Requirement already satisfied: cycler in /usr/local/lib/python3.11/dist-packages (from roboflow) (0.12.1)\n",
            "Requirement already satisfied: kiwisolver>=1.3.1 in /usr/local/lib/python3.11/dist-packages (from roboflow) (1.4.8)\n",
            "Requirement already satisfied: matplotlib in /usr/local/lib/python3.11/dist-packages (from roboflow) (3.10.0)\n",
            "Requirement already satisfied: numpy>=1.18.5 in /usr/local/lib/python3.11/dist-packages (from roboflow) (2.0.2)\n",
            "Requirement already satisfied: opencv-python-headless==4.10.0.84 in /usr/local/lib/python3.11/dist-packages (from roboflow) (4.10.0.84)\n",
            "Requirement already satisfied: Pillow>=7.1.2 in /usr/local/lib/python3.11/dist-packages (from roboflow) (11.3.0)\n",
            "Requirement already satisfied: pi-heif<2 in /usr/local/lib/python3.11/dist-packages (from roboflow) (1.1.0)\n",
            "Requirement already satisfied: pillow-avif-plugin<2 in /usr/local/lib/python3.11/dist-packages (from roboflow) (1.5.2)\n",
            "Requirement already satisfied: python-dateutil in /usr/local/lib/python3.11/dist-packages (from roboflow) (2.9.0.post0)\n",
            "Requirement already satisfied: python-dotenv in /usr/local/lib/python3.11/dist-packages (from roboflow) (1.1.1)\n",
            "Requirement already satisfied: requests in /usr/local/lib/python3.11/dist-packages (from roboflow) (2.32.3)\n",
            "Requirement already satisfied: six in /usr/local/lib/python3.11/dist-packages (from roboflow) (1.17.0)\n",
            "Requirement already satisfied: urllib3>=1.26.6 in /usr/local/lib/python3.11/dist-packages (from roboflow) (2.5.0)\n",
            "Requirement already satisfied: tqdm>=4.41.0 in /usr/local/lib/python3.11/dist-packages (from roboflow) (4.67.1)\n",
            "Requirement already satisfied: PyYAML>=5.3.1 in /usr/local/lib/python3.11/dist-packages (from roboflow) (6.0.2)\n",
            "Requirement already satisfied: requests-toolbelt in /usr/local/lib/python3.11/dist-packages (from roboflow) (1.0.0)\n",
            "Requirement already satisfied: filetype in /usr/local/lib/python3.11/dist-packages (from roboflow) (1.2.0)\n",
            "Requirement already satisfied: contourpy>=1.0.1 in /usr/local/lib/python3.11/dist-packages (from matplotlib->roboflow) (1.3.2)\n",
            "Requirement already satisfied: fonttools>=4.22.0 in /usr/local/lib/python3.11/dist-packages (from matplotlib->roboflow) (4.59.0)\n",
            "Requirement already satisfied: packaging>=20.0 in /usr/local/lib/python3.11/dist-packages (from matplotlib->roboflow) (25.0)\n",
            "Requirement already satisfied: pyparsing>=2.3.1 in /usr/local/lib/python3.11/dist-packages (from matplotlib->roboflow) (3.2.3)\n",
            "Requirement already satisfied: charset-normalizer<4,>=2 in /usr/local/lib/python3.11/dist-packages (from requests->roboflow) (3.4.2)\n",
            "loading Roboflow workspace...\n",
            "loading Roboflow project...\n"
          ]
        }
      ],
      "source": [
        "!pip install roboflow\n",
        "\n",
        "from roboflow import Roboflow\n",
        "rf = Roboflow(api_key=\"pOcVYS0YKYre27bqF1it\")\n",
        "project = rf.workspace(\"uidaiproject\").project(\"fingertip-segmentation\")\n",
        "version = project.version(5)\n",
        "dataset = version.download(\"coco-segmentation\")\n"
      ]
    },
    {
      "cell_type": "code",
      "execution_count": 4,
      "metadata": {
        "colab": {
          "base_uri": "https://localhost:8080/"
        },
        "id": "L5tARPEPDixb",
        "outputId": "69ae1f0b-bbe5-4583-af94-2a180f3174a1"
      },
      "outputs": [
        {
          "name": "stdout",
          "output_type": "stream",
          "text": [
            "/content/fingertip-segmentation-5\n"
          ]
        }
      ],
      "source": [
        "print(dataset.location)"
      ]
    },
    {
      "cell_type": "code",
      "execution_count": null,
      "metadata": {
        "colab": {
          "base_uri": "https://localhost:8080/"
        },
        "id": "sNDBpPfpDwSR",
        "outputId": "8be0cfc1-da3a-4bb5-a263-ef7a58930715"
      },
      "outputs": [
        {
          "name": "stdout",
          "output_type": "stream",
          "text": [
            "loading annotations into memory...\n",
            "Done (t=0.04s)\n",
            "creating index...\n",
            "index created!\n",
            "loading annotations into memory...\n",
            "Done (t=0.00s)\n",
            "creating index...\n",
            "index created!\n",
            "loading annotations into memory...\n",
            "Done (t=0.00s)\n",
            "creating index...\n",
            "index created!\n"
          ]
        }
      ],
      "source": [
        "import os\n",
        "from pycocotools.coco import COCO\n",
        "import numpy as np\n",
        "from PIL import Image\n",
        "\n",
        "def coco_to_masks(json_path, img_dir, mask_dir):\n",
        "    os.makedirs(mask_dir, exist_ok=True)\n",
        "    coco = COCO(json_path)\n",
        "\n",
        "    for img in coco.imgs.values():\n",
        "        img_id = img['id']\n",
        "        img_name = img['file_name']\n",
        "        h, w = img['height'], img['width']\n",
        "        ann_ids = coco.getAnnIds(imgIds=img_id)\n",
        "        anns = coco.loadAnns(ann_ids)\n",
        "\n",
        "        mask = np.zeros((h, w), dtype=np.uint8)\n",
        "        for ann in anns:\n",
        "            m = coco.annToMask(ann)\n",
        "            mask = np.maximum(mask, m * 255)\n",
        "\n",
        "        mask_img = Image.fromarray(mask)\n",
        "        mask_img.save(os.path.join(mask_dir, os.path.splitext(img_name)[0] + \".png\"))\n",
        "\n",
        "# Converting masks\n",
        "base_dir = dataset.location\n",
        "\n",
        "coco_to_masks(\n",
        "    os.path.join(base_dir, \"train/_annotations.coco.json\"),\n",
        "    os.path.join(base_dir, \"train/images\"),\n",
        "    os.path.join(base_dir, \"train/masks\")\n",
        ")\n",
        "\n",
        "coco_to_masks(\n",
        "    os.path.join(base_dir, \"valid/_annotations.coco.json\"),\n",
        "    os.path.join(base_dir, \"valid/images\"),\n",
        "    os.path.join(base_dir, \"valid/masks\")\n",
        ")\n",
        "\n",
        "coco_to_masks(\n",
        "    os.path.join(base_dir, \"test/_annotations.coco.json\"),\n",
        "    os.path.join(base_dir, \"test/images\"),\n",
        "    os.path.join(base_dir, \"test/masks\")\n",
        ")"
      ]
    },
    {
      "cell_type": "code",
      "execution_count": null,
      "metadata": {
        "id": "KvCkTRgIDyy3"
      },
      "outputs": [],
      "source": [
        "def preprocess_image(image_path):\n",
        "    image = cv2.imread(image_path)\n",
        "    image = cv2.resize(image, (320, 320))\n",
        "    image = cv2.cvtColor(image, cv2.COLOR_BGR2RGB)\n",
        "    image = image.astype(np.float32) / 255.0\n",
        "    image = np.expand_dims(image, axis=0)  # Adding batch dimension\n",
        "    return image\n"
      ]
    },
    {
      "cell_type": "code",
      "execution_count": null,
      "metadata": {
        "id": "WPwHgMsRD7jP"
      },
      "outputs": [],
      "source": [
        "def predict_mask_tflite(image_path):\n",
        "    image = preprocess_image(image_path)\n",
        "\n",
        "    interpreter.set_tensor(input_details[0]['index'], image)\n",
        "    interpreter.invoke()\n",
        "\n",
        "    output = interpreter.get_tensor(output_details[0]['index'])[0, :, :, 0]  # Removing batch and channel dim\n",
        "    pred_mask = (output > 0.5).astype(np.uint8)  # Binarizing\n",
        "\n",
        "    return pred_mask\n"
      ]
    },
    {
      "cell_type": "code",
      "execution_count": null,
      "metadata": {
        "id": "kKD4fru6D9ZC"
      },
      "outputs": [],
      "source": [
        "def evaluate_tflite_on_dataset(image_dir, mask_dir):\n",
        "    image_files = sorted([f for f in os.listdir(image_dir) if f.endswith(('.jpg', '.png', '.jpeg'))])\n",
        "\n",
        "    all_preds = []\n",
        "    all_gts = []\n",
        "\n",
        "    for file in tqdm(image_files):\n",
        "        img_path = os.path.join(image_dir, file)\n",
        "        mask_path = os.path.join(mask_dir, file.replace('.jpg', '.png').replace('.jpeg', '.png'))\n",
        "\n",
        "        # Get predicted mask\n",
        "        pred_mask = predict_mask_tflite(img_path).flatten()\n",
        "\n",
        "        # Load ground truth mask\n",
        "        gt_mask = cv2.imread(mask_path, cv2.IMREAD_GRAYSCALE)\n",
        "        gt_mask = cv2.resize(gt_mask, (320, 320))\n",
        "        gt_mask = (gt_mask > 127).astype(np.uint8).flatten()\n",
        "\n",
        "        all_preds.extend(pred_mask)\n",
        "        all_gts.extend(gt_mask)\n",
        "\n",
        "    print(\"Accuracy :\", accuracy_score(all_gts, all_preds))\n",
        "    print(\"Precision:\", precision_score(all_gts, all_preds))\n",
        "    print(\"Recall   :\", recall_score(all_gts, all_preds))\n",
        "    print(\"F1 Score :\", f1_score(all_gts, all_preds))\n",
        "    print(\"IoU      :\", jaccard_score(all_gts, all_preds))\n"
      ]
    },
    {
      "cell_type": "code",
      "execution_count": 9,
      "metadata": {
        "colab": {
          "base_uri": "https://localhost:8080/"
        },
        "id": "eYa2BKJYEBf8",
        "outputId": "8550985a-ec0a-4e63-e436-b3a2b345a467"
      },
      "outputs": [
        {
          "name": "stderr",
          "output_type": "stream",
          "text": [
            "100%|██████████| 126/126 [01:51<00:00,  1.13it/s]\n"
          ]
        },
        {
          "name": "stdout",
          "output_type": "stream",
          "text": [
            "Accuracy : 0.9525862630208334\n",
            "Precision: 0.9132263352753563\n",
            "Recall   : 0.8952033004019362\n",
            "F1 Score : 0.9041250079340638\n",
            "IoU      : 0.8250256776364733\n"
          ]
        }
      ],
      "source": [
        "evaluate_tflite_on_dataset(\"/content/fingertip-segmentation-5/test\", \"/content/fingertip-segmentation-5/test/masks\")\n"
      ]
    },
    {
      "cell_type": "code",
      "execution_count": null,
      "metadata": {
        "id": "3RW6fzMiEJjl"
      },
      "outputs": [],
      "source": []
    }
  ],
  "metadata": {
    "accelerator": "GPU",
    "colab": {
      "gpuType": "T4",
      "provenance": []
    },
    "kernelspec": {
      "display_name": "Python 3",
      "name": "python3"
    },
    "language_info": {
      "name": "python"
    }
  },
  "nbformat": 4,
  "nbformat_minor": 0
}
